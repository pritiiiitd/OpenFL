{
  "nbformat": 4,
  "nbformat_minor": 0,
  "metadata": {
    "colab": {
      "provenance": []
    },
    "kernelspec": {
      "name": "python3",
      "display_name": "Python 3"
    },
    "language_info": {
      "name": "python"
    }
  },
  "cells": [
    {
      "cell_type": "markdown",
      "source": [
        "Linear Regression with Numpy and OpenFL"
      ],
      "metadata": {
        "id": "dDlVGz9_R4Jc"
      }
    },
    {
      "cell_type": "code",
      "execution_count": null,
      "metadata": {
        "colab": {
          "base_uri": "https://localhost:8080/"
        },
        "id": "PCNg-R5rRp4_",
        "outputId": "aa5622fb-f9b5-4966-9192-501765b3479a"
      },
      "outputs": [
        {
          "output_type": "stream",
          "name": "stdout",
          "text": [
            "Looking in indexes: https://pypi.org/simple, https://us-python.pkg.dev/colab-wheels/public/simple/\n",
            "Collecting openfl\n",
            "  Downloading openfl-1.4-py3-none-any.whl (612 kB)\n",
            "\u001b[2K     \u001b[90m━━━━━━━━━━━━━━━━━━━━━━━━━━━━━━━━━━━━━━\u001b[0m \u001b[32m612.5/612.5 KB\u001b[0m \u001b[31m16.1 MB/s\u001b[0m eta \u001b[36m0:00:00\u001b[0m\n",
            "\u001b[?25hCollecting docker\n",
            "  Downloading docker-6.0.1-py3-none-any.whl (147 kB)\n",
            "\u001b[2K     \u001b[90m━━━━━━━━━━━━━━━━━━━━━━━━━━━━━━━━━━━━━━━\u001b[0m \u001b[32m147.5/147.5 KB\u001b[0m \u001b[31m2.4 MB/s\u001b[0m eta \u001b[36m0:00:00\u001b[0m\n",
            "\u001b[?25hRequirement already satisfied: ipykernel in /usr/local/lib/python3.8/dist-packages (from openfl) (5.3.4)\n",
            "Collecting rich\n",
            "  Downloading rich-13.1.0-py3-none-any.whl (238 kB)\n",
            "\u001b[2K     \u001b[90m━━━━━━━━━━━━━━━━━━━━━━━━━━━━━━━━━━━━━━\u001b[0m \u001b[32m238.4/238.4 KB\u001b[0m \u001b[31m11.4 MB/s\u001b[0m eta \u001b[36m0:00:00\u001b[0m\n",
            "\u001b[?25hCollecting dynaconf==3.1.7\n",
            "  Downloading dynaconf-3.1.7-py2.py3-none-any.whl (200 kB)\n",
            "\u001b[2K     \u001b[90m━━━━━━━━━━━━━━━━━━━━━━━━━━━━━━━━━━━━━━\u001b[0m \u001b[32m200.6/200.6 KB\u001b[0m \u001b[31m11.1 MB/s\u001b[0m eta \u001b[36m0:00:00\u001b[0m\n",
            "\u001b[?25hRequirement already satisfied: tqdm in /usr/local/lib/python3.8/dist-packages (from openfl) (4.64.1)\n",
            "Collecting flatten-json\n",
            "  Downloading flatten_json-0.1.13.tar.gz (11 kB)\n",
            "  Preparing metadata (setup.py) ... \u001b[?25l\u001b[?25hdone\n",
            "Collecting grpcio~=1.34.0\n",
            "  Downloading grpcio-1.34.1-cp38-cp38-manylinux2014_x86_64.whl (4.0 MB)\n",
            "\u001b[2K     \u001b[90m━━━━━━━━━━━━━━━━━━━━━━━━━━━━━━━━━━━━━━━━\u001b[0m \u001b[32m4.0/4.0 MB\u001b[0m \u001b[31m46.9 MB/s\u001b[0m eta \u001b[36m0:00:00\u001b[0m\n",
            "\u001b[?25hCollecting jupyterlab\n",
            "  Downloading jupyterlab-3.5.2-py3-none-any.whl (8.8 MB)\n",
            "\u001b[2K     \u001b[90m━━━━━━━━━━━━━━━━━━━━━━━━━━━━━━━━━━━━━━━━\u001b[0m \u001b[32m8.8/8.8 MB\u001b[0m \u001b[31m51.1 MB/s\u001b[0m eta \u001b[36m0:00:00\u001b[0m\n",
            "\u001b[?25hCollecting tensorboardX\n",
            "  Downloading tensorboardX-2.5.1-py2.py3-none-any.whl (125 kB)\n",
            "\u001b[2K     \u001b[90m━━━━━━━━━━━━━━━━━━━━━━━━━━━━━━━━━━━━━━\u001b[0m \u001b[32m125.4/125.4 KB\u001b[0m \u001b[31m11.3 MB/s\u001b[0m eta \u001b[36m0:00:00\u001b[0m\n",
            "\u001b[?25hRequirement already satisfied: requests in /usr/local/lib/python3.8/dist-packages (from openfl) (2.25.1)\n",
            "Requirement already satisfied: pandas in /usr/local/lib/python3.8/dist-packages (from openfl) (1.3.5)\n",
            "Requirement already satisfied: scikit-learn in /usr/local/lib/python3.8/dist-packages (from openfl) (1.0.2)\n",
            "Collecting Click==8.0.1\n",
            "  Downloading click-8.0.1-py3-none-any.whl (97 kB)\n",
            "\u001b[2K     \u001b[90m━━━━━━━━━━━━━━━━━━━━━━━━━━━━━━━━━━━━━━━━\u001b[0m \u001b[32m97.4/97.4 KB\u001b[0m \u001b[31m6.8 MB/s\u001b[0m eta \u001b[36m0:00:00\u001b[0m\n",
            "\u001b[?25hRequirement already satisfied: numpy in /usr/local/lib/python3.8/dist-packages (from openfl) (1.21.6)\n",
            "Requirement already satisfied: PyYAML>=5.4.1 in /usr/local/lib/python3.8/dist-packages (from openfl) (6.0)\n",
            "Requirement already satisfied: tensorboard in /usr/local/lib/python3.8/dist-packages (from openfl) (2.9.1)\n",
            "Collecting cryptography>=3.4.6\n",
            "  Downloading cryptography-39.0.0-cp36-abi3-manylinux_2_24_x86_64.whl (4.1 MB)\n",
            "\u001b[2K     \u001b[90m━━━━━━━━━━━━━━━━━━━━━━━━━━━━━━━━━━━━━━━━\u001b[0m \u001b[32m4.1/4.1 MB\u001b[0m \u001b[31m30.2 MB/s\u001b[0m eta \u001b[36m0:00:00\u001b[0m\n",
            "\u001b[?25hCollecting protobuf==3.19.4\n",
            "  Downloading protobuf-3.19.4-cp38-cp38-manylinux_2_17_x86_64.manylinux2014_x86_64.whl (1.1 MB)\n",
            "\u001b[2K     \u001b[90m━━━━━━━━━━━━━━━━━━━━━━━━━━━━━━━━━━━━━━━━\u001b[0m \u001b[32m1.1/1.1 MB\u001b[0m \u001b[31m35.1 MB/s\u001b[0m eta \u001b[36m0:00:00\u001b[0m\n",
            "\u001b[?25hRequirement already satisfied: cloudpickle in /usr/local/lib/python3.8/dist-packages (from openfl) (2.2.0)\n",
            "Requirement already satisfied: cffi>=1.12 in /usr/local/lib/python3.8/dist-packages (from cryptography>=3.4.6->openfl) (1.15.1)\n",
            "Requirement already satisfied: six>=1.5.2 in /usr/local/lib/python3.8/dist-packages (from grpcio~=1.34.0->openfl) (1.15.0)\n",
            "Collecting requests\n",
            "  Downloading requests-2.28.2-py3-none-any.whl (62 kB)\n",
            "\u001b[2K     \u001b[90m━━━━━━━━━━━━━━━━━━━━━━━━━━━━━━━━━━━━━━━━\u001b[0m \u001b[32m62.8/62.8 KB\u001b[0m \u001b[31m2.9 MB/s\u001b[0m eta \u001b[36m0:00:00\u001b[0m\n",
            "\u001b[?25hCollecting websocket-client>=0.32.0\n",
            "  Downloading websocket_client-1.4.2-py3-none-any.whl (55 kB)\n",
            "\u001b[2K     \u001b[90m━━━━━━━━━━━━━━━━━━━━━━━━━━━━━━━━━━━━━━━━\u001b[0m \u001b[32m55.3/55.3 KB\u001b[0m \u001b[31m3.7 MB/s\u001b[0m eta \u001b[36m0:00:00\u001b[0m\n",
            "\u001b[?25hCollecting urllib3>=1.26.0\n",
            "  Downloading urllib3-1.26.14-py2.py3-none-any.whl (140 kB)\n",
            "\u001b[2K     \u001b[90m━━━━━━━━━━━━━━━━━━━━━━━━━━━━━━━━━━━━━━━\u001b[0m \u001b[32m140.6/140.6 KB\u001b[0m \u001b[31m7.7 MB/s\u001b[0m eta \u001b[36m0:00:00\u001b[0m\n",
            "\u001b[?25hRequirement already satisfied: packaging>=14.0 in /usr/local/lib/python3.8/dist-packages (from docker->openfl) (21.3)\n",
            "Requirement already satisfied: idna<4,>=2.5 in /usr/local/lib/python3.8/dist-packages (from requests->openfl) (2.10)\n",
            "Requirement already satisfied: certifi>=2017.4.17 in /usr/local/lib/python3.8/dist-packages (from requests->openfl) (2022.12.7)\n",
            "Requirement already satisfied: charset-normalizer<4,>=2 in /usr/local/lib/python3.8/dist-packages (from requests->openfl) (2.1.1)\n",
            "Requirement already satisfied: tornado>=4.2 in /usr/local/lib/python3.8/dist-packages (from ipykernel->openfl) (6.0.4)\n",
            "Requirement already satisfied: traitlets>=4.1.0 in /usr/local/lib/python3.8/dist-packages (from ipykernel->openfl) (5.7.1)\n",
            "Requirement already satisfied: jupyter-client in /usr/local/lib/python3.8/dist-packages (from ipykernel->openfl) (6.1.12)\n",
            "Requirement already satisfied: ipython>=5.0.0 in /usr/local/lib/python3.8/dist-packages (from ipykernel->openfl) (7.9.0)\n",
            "Requirement already satisfied: jupyter-core in /usr/local/lib/python3.8/dist-packages (from jupyterlab->openfl) (5.1.2)\n",
            "Requirement already satisfied: notebook<7 in /usr/local/lib/python3.8/dist-packages (from jupyterlab->openfl) (5.7.16)\n",
            "Collecting tornado>=4.2\n",
            "  Downloading tornado-6.2-cp37-abi3-manylinux_2_5_x86_64.manylinux1_x86_64.manylinux_2_17_x86_64.manylinux2014_x86_64.whl (423 kB)\n",
            "\u001b[2K     \u001b[90m━━━━━━━━━━━━━━━━━━━━━━━━━━━━━━━━━━━━━━\u001b[0m \u001b[32m424.0/424.0 KB\u001b[0m \u001b[31m27.6 MB/s\u001b[0m eta \u001b[36m0:00:00\u001b[0m\n",
            "\u001b[?25hCollecting nbclassic\n",
            "  Downloading nbclassic-0.4.8-py3-none-any.whl (9.8 MB)\n",
            "\u001b[2K     \u001b[90m━━━━━━━━━━━━━━━━━━━━━━━━━━━━━━━━━━━━━━━━\u001b[0m \u001b[32m9.8/9.8 MB\u001b[0m \u001b[31m70.8 MB/s\u001b[0m eta \u001b[36m0:00:00\u001b[0m\n",
            "\u001b[?25hRequirement already satisfied: tomli in /usr/local/lib/python3.8/dist-packages (from jupyterlab->openfl) (2.0.1)\n",
            "Collecting jupyter-server<3,>=1.16.0\n",
            "  Downloading jupyter_server-2.1.0-py3-none-any.whl (365 kB)\n",
            "\u001b[2K     \u001b[90m━━━━━━━━━━━━━━━━━━━━━━━━━━━━━━━━━━━━━━\u001b[0m \u001b[32m365.2/365.2 KB\u001b[0m \u001b[31m20.2 MB/s\u001b[0m eta \u001b[36m0:00:00\u001b[0m\n",
            "\u001b[?25hRequirement already satisfied: jinja2>=2.1 in /usr/local/lib/python3.8/dist-packages (from jupyterlab->openfl) (2.11.3)\n",
            "Collecting jupyterlab-server~=2.10\n",
            "  Downloading jupyterlab_server-2.18.0-py3-none-any.whl (56 kB)\n",
            "\u001b[2K     \u001b[90m━━━━━━━━━━━━━━━━━━━━━━━━━━━━━━━━━━━━━━━━\u001b[0m \u001b[32m56.4/56.4 KB\u001b[0m \u001b[31m3.2 MB/s\u001b[0m eta \u001b[36m0:00:00\u001b[0m\n",
            "\u001b[?25hRequirement already satisfied: pytz>=2017.3 in /usr/local/lib/python3.8/dist-packages (from pandas->openfl) (2022.7)\n",
            "Requirement already satisfied: python-dateutil>=2.7.3 in /usr/local/lib/python3.8/dist-packages (from pandas->openfl) (2.8.2)\n",
            "Requirement already satisfied: typing-extensions<5.0,>=4.0.0 in /usr/local/lib/python3.8/dist-packages (from rich->openfl) (4.4.0)\n",
            "Requirement already satisfied: pygments<3.0.0,>=2.6.0 in /usr/local/lib/python3.8/dist-packages (from rich->openfl) (2.6.1)\n",
            "Collecting commonmark<0.10.0,>=0.9.0\n",
            "  Downloading commonmark-0.9.1-py2.py3-none-any.whl (51 kB)\n",
            "\u001b[2K     \u001b[90m━━━━━━━━━━━━━━━━━━━━━━━━━━━━━━━━━━━━━━━━\u001b[0m \u001b[32m51.1/51.1 KB\u001b[0m \u001b[31m3.1 MB/s\u001b[0m eta \u001b[36m0:00:00\u001b[0m\n",
            "\u001b[?25hRequirement already satisfied: scipy>=1.1.0 in /usr/local/lib/python3.8/dist-packages (from scikit-learn->openfl) (1.7.3)\n",
            "Requirement already satisfied: joblib>=0.11 in /usr/local/lib/python3.8/dist-packages (from scikit-learn->openfl) (1.2.0)\n",
            "Requirement already satisfied: threadpoolctl>=2.0.0 in /usr/local/lib/python3.8/dist-packages (from scikit-learn->openfl) (3.1.0)\n",
            "Requirement already satisfied: werkzeug>=1.0.1 in /usr/local/lib/python3.8/dist-packages (from tensorboard->openfl) (1.0.1)\n",
            "Requirement already satisfied: google-auth<3,>=1.6.3 in /usr/local/lib/python3.8/dist-packages (from tensorboard->openfl) (2.15.0)\n",
            "Requirement already satisfied: google-auth-oauthlib<0.5,>=0.4.1 in /usr/local/lib/python3.8/dist-packages (from tensorboard->openfl) (0.4.6)\n",
            "Requirement already satisfied: setuptools>=41.0.0 in /usr/local/lib/python3.8/dist-packages (from tensorboard->openfl) (57.4.0)\n",
            "Requirement already satisfied: absl-py>=0.4 in /usr/local/lib/python3.8/dist-packages (from tensorboard->openfl) (1.3.0)\n",
            "Requirement already satisfied: tensorboard-plugin-wit>=1.6.0 in /usr/local/lib/python3.8/dist-packages (from tensorboard->openfl) (1.8.1)\n",
            "Requirement already satisfied: markdown>=2.6.8 in /usr/local/lib/python3.8/dist-packages (from tensorboard->openfl) (3.4.1)\n",
            "Requirement already satisfied: tensorboard-data-server<0.7.0,>=0.6.0 in /usr/local/lib/python3.8/dist-packages (from tensorboard->openfl) (0.6.1)\n",
            "Requirement already satisfied: wheel>=0.26 in /usr/local/lib/python3.8/dist-packages (from tensorboard->openfl) (0.38.4)\n",
            "Requirement already satisfied: pycparser in /usr/local/lib/python3.8/dist-packages (from cffi>=1.12->cryptography>=3.4.6->openfl) (2.21)\n",
            "Requirement already satisfied: rsa<5,>=3.1.4 in /usr/local/lib/python3.8/dist-packages (from google-auth<3,>=1.6.3->tensorboard->openfl) (4.9)\n",
            "Requirement already satisfied: cachetools<6.0,>=2.0.0 in /usr/local/lib/python3.8/dist-packages (from google-auth<3,>=1.6.3->tensorboard->openfl) (5.2.0)\n",
            "Requirement already satisfied: pyasn1-modules>=0.2.1 in /usr/local/lib/python3.8/dist-packages (from google-auth<3,>=1.6.3->tensorboard->openfl) (0.2.8)\n",
            "Requirement already satisfied: requests-oauthlib>=0.7.0 in /usr/local/lib/python3.8/dist-packages (from google-auth-oauthlib<0.5,>=0.4.1->tensorboard->openfl) (1.3.1)\n",
            "Requirement already satisfied: prompt-toolkit<2.1.0,>=2.0.0 in /usr/local/lib/python3.8/dist-packages (from ipython>=5.0.0->ipykernel->openfl) (2.0.10)\n",
            "Requirement already satisfied: pickleshare in /usr/local/lib/python3.8/dist-packages (from ipython>=5.0.0->ipykernel->openfl) (0.7.5)\n",
            "Collecting jedi>=0.10\n",
            "  Downloading jedi-0.18.2-py2.py3-none-any.whl (1.6 MB)\n",
            "\u001b[2K     \u001b[90m━━━━━━━━━━━━━━━━━━━━━━━━━━━━━━━━━━━━━━━━\u001b[0m \u001b[32m1.6/1.6 MB\u001b[0m \u001b[31m53.6 MB/s\u001b[0m eta \u001b[36m0:00:00\u001b[0m\n",
            "\u001b[?25hRequirement already satisfied: backcall in /usr/local/lib/python3.8/dist-packages (from ipython>=5.0.0->ipykernel->openfl) (0.2.0)\n",
            "Requirement already satisfied: pexpect in /usr/local/lib/python3.8/dist-packages (from ipython>=5.0.0->ipykernel->openfl) (4.8.0)\n",
            "Requirement already satisfied: decorator in /usr/local/lib/python3.8/dist-packages (from ipython>=5.0.0->ipykernel->openfl) (4.4.2)\n",
            "Requirement already satisfied: MarkupSafe>=0.23 in /usr/local/lib/python3.8/dist-packages (from jinja2>=2.1->jupyterlab->openfl) (2.0.1)\n",
            "Collecting anyio<4,>=3.1.0\n",
            "  Downloading anyio-3.6.2-py3-none-any.whl (80 kB)\n",
            "\u001b[2K     \u001b[90m━━━━━━━━━━━━━━━━━━━━━━━━━━━━━━━━━━━━━━━━\u001b[0m \u001b[32m80.6/80.6 KB\u001b[0m \u001b[31m5.0 MB/s\u001b[0m eta \u001b[36m0:00:00\u001b[0m\n",
            "\u001b[?25hCollecting nbconvert>=6.4.4\n",
            "  Downloading nbconvert-7.2.7-py3-none-any.whl (273 kB)\n",
            "\u001b[2K     \u001b[90m━━━━━━━━━━━━━━━━━━━━━━━━━━━━━━━━━━━━━━\u001b[0m \u001b[32m273.2/273.2 KB\u001b[0m \u001b[31m17.4 MB/s\u001b[0m eta \u001b[36m0:00:00\u001b[0m\n",
            "\u001b[?25hRequirement already satisfied: send2trash in /usr/local/lib/python3.8/dist-packages (from jupyter-server<3,>=1.16.0->jupyterlab->openfl) (1.8.0)\n",
            "Collecting argon2-cffi\n",
            "  Downloading argon2_cffi-21.3.0-py3-none-any.whl (14 kB)\n",
            "Collecting jupyter-server-terminals\n",
            "  Downloading jupyter_server_terminals-0.4.4-py3-none-any.whl (13 kB)\n",
            "Requirement already satisfied: prometheus-client in /usr/local/lib/python3.8/dist-packages (from jupyter-server<3,>=1.16.0->jupyterlab->openfl) (0.15.0)\n",
            "Requirement already satisfied: nbformat>=5.3.0 in /usr/local/lib/python3.8/dist-packages (from jupyter-server<3,>=1.16.0->jupyterlab->openfl) (5.7.1)\n",
            "Collecting pyzmq>=24\n",
            "  Downloading pyzmq-25.0.0-cp38-cp38-manylinux_2_12_x86_64.manylinux2010_x86_64.whl (1.1 MB)\n",
            "\u001b[2K     \u001b[90m━━━━━━━━━━━━━━━━━━━━━━━━━━━━━━━━━━━━━━━━\u001b[0m \u001b[32m1.1/1.1 MB\u001b[0m \u001b[31m63.3 MB/s\u001b[0m eta \u001b[36m0:00:00\u001b[0m\n",
            "\u001b[?25hCollecting jupyter-client\n",
            "  Downloading jupyter_client-7.4.9-py3-none-any.whl (133 kB)\n",
            "\u001b[2K     \u001b[90m━━━━━━━━━━━━━━━━━━━━━━━━━━━━━━━━━━━━━━\u001b[0m \u001b[32m133.5/133.5 KB\u001b[0m \u001b[31m15.5 MB/s\u001b[0m eta \u001b[36m0:00:00\u001b[0m\n",
            "\u001b[?25hCollecting jupyter-events>=0.4.0\n",
            "  Downloading jupyter_events-0.6.3-py3-none-any.whl (18 kB)\n",
            "Requirement already satisfied: terminado>=0.8.3 in /usr/local/lib/python3.8/dist-packages (from jupyter-server<3,>=1.16.0->jupyterlab->openfl) (0.13.3)\n",
            "Requirement already satisfied: entrypoints in /usr/local/lib/python3.8/dist-packages (from jupyter-client->ipykernel->openfl) (0.4)\n",
            "Collecting nest-asyncio>=1.5.4\n",
            "  Downloading nest_asyncio-1.5.6-py3-none-any.whl (5.2 kB)\n",
            "Requirement already satisfied: platformdirs>=2.5 in /usr/local/lib/python3.8/dist-packages (from jupyter-core->jupyterlab->openfl) (2.6.2)\n",
            "Requirement already satisfied: importlib-metadata>=4.8.3 in /usr/local/lib/python3.8/dist-packages (from jupyterlab-server~=2.10->jupyterlab->openfl) (6.0.0)\n",
            "Requirement already satisfied: babel>=2.10 in /usr/local/lib/python3.8/dist-packages (from jupyterlab-server~=2.10->jupyterlab->openfl) (2.11.0)\n",
            "Collecting jinja2>=2.1\n",
            "  Downloading Jinja2-3.1.2-py3-none-any.whl (133 kB)\n",
            "\u001b[2K     \u001b[90m━━━━━━━━━━━━━━━━━━━━━━━━━━━━━━━━━━━━━━\u001b[0m \u001b[32m133.1/133.1 KB\u001b[0m \u001b[31m17.6 MB/s\u001b[0m eta \u001b[36m0:00:00\u001b[0m\n",
            "\u001b[?25hCollecting jsonschema>=4.17.3\n",
            "  Downloading jsonschema-4.17.3-py3-none-any.whl (90 kB)\n",
            "\u001b[2K     \u001b[90m━━━━━━━━━━━━━━━━━━━━━━━━━━━━━━━━━━━━━━━━\u001b[0m \u001b[32m90.4/90.4 KB\u001b[0m \u001b[31m11.6 MB/s\u001b[0m eta \u001b[36m0:00:00\u001b[0m\n",
            "\u001b[?25hCollecting json5>=0.9.0\n",
            "  Downloading json5-0.9.11-py2.py3-none-any.whl (19 kB)\n",
            "Requirement already satisfied: ipython-genutils in /usr/local/lib/python3.8/dist-packages (from notebook<7->jupyterlab->openfl) (0.2.0)\n",
            "Collecting notebook<7\n",
            "  Downloading notebook-6.5.2-py3-none-any.whl (439 kB)\n",
            "\u001b[2K     \u001b[90m━━━━━━━━━━━━━━━━━━━━━━━━━━━━━━━━━━━━━━\u001b[0m \u001b[32m439.1/439.1 KB\u001b[0m \u001b[31m40.3 MB/s\u001b[0m eta \u001b[36m0:00:00\u001b[0m\n",
            "\u001b[?25hCollecting notebook-shim>=0.1.0\n",
            "  Downloading notebook_shim-0.2.2-py3-none-any.whl (13 kB)\n",
            "Requirement already satisfied: pyparsing!=3.0.5,>=2.0.2 in /usr/local/lib/python3.8/dist-packages (from packaging>=14.0->docker->openfl) (3.0.9)\n",
            "Collecting sniffio>=1.1\n",
            "  Downloading sniffio-1.3.0-py3-none-any.whl (10 kB)\n",
            "Requirement already satisfied: zipp>=0.5 in /usr/local/lib/python3.8/dist-packages (from importlib-metadata>=4.8.3->jupyterlab-server~=2.10->jupyterlab->openfl) (3.11.0)\n",
            "Requirement already satisfied: parso<0.9.0,>=0.8.0 in /usr/local/lib/python3.8/dist-packages (from jedi>=0.10->ipython>=5.0.0->ipykernel->openfl) (0.8.3)\n",
            "Requirement already satisfied: attrs>=17.4.0 in /usr/local/lib/python3.8/dist-packages (from jsonschema>=4.17.3->jupyterlab-server~=2.10->jupyterlab->openfl) (22.2.0)\n",
            "Requirement already satisfied: importlib-resources>=1.4.0 in /usr/local/lib/python3.8/dist-packages (from jsonschema>=4.17.3->jupyterlab-server~=2.10->jupyterlab->openfl) (5.10.2)\n",
            "Collecting pkgutil-resolve-name>=1.3.10\n",
            "  Downloading pkgutil_resolve_name-1.3.10-py3-none-any.whl (4.7 kB)\n",
            "Requirement already satisfied: pyrsistent!=0.17.0,!=0.17.1,!=0.17.2,>=0.14.0 in /usr/local/lib/python3.8/dist-packages (from jsonschema>=4.17.3->jupyterlab-server~=2.10->jupyterlab->openfl) (0.19.3)\n",
            "Collecting rfc3339-validator\n",
            "  Downloading rfc3339_validator-0.1.4-py2.py3-none-any.whl (3.5 kB)\n",
            "Collecting rfc3986-validator>=0.1.1\n",
            "  Downloading rfc3986_validator-0.1.1-py2.py3-none-any.whl (4.2 kB)\n",
            "Collecting python-json-logger>=2.0.4\n",
            "  Downloading python_json_logger-2.0.4-py3-none-any.whl (7.8 kB)\n",
            "Requirement already satisfied: jsonschema[format-nongpl]>=3.2.0 in /usr/local/lib/python3.8/dist-packages (from jupyter-events>=0.4.0->jupyter-server<3,>=1.16.0->jupyterlab->openfl) (4.3.3)\n",
            "Collecting nbclient>=0.5.0\n",
            "  Downloading nbclient-0.7.2-py3-none-any.whl (71 kB)\n",
            "\u001b[2K     \u001b[90m━━━━━━━━━━━━━━━━━━━━━━━━━━━━━━━━━━━━━━━━\u001b[0m \u001b[32m72.0/72.0 KB\u001b[0m \u001b[31m8.9 MB/s\u001b[0m eta \u001b[36m0:00:00\u001b[0m\n",
            "\u001b[?25hRequirement already satisfied: bleach in /usr/local/lib/python3.8/dist-packages (from nbconvert>=6.4.4->jupyter-server<3,>=1.16.0->jupyterlab->openfl) (5.0.1)\n",
            "Requirement already satisfied: pandocfilters>=1.4.1 in /usr/local/lib/python3.8/dist-packages (from nbconvert>=6.4.4->jupyter-server<3,>=1.16.0->jupyterlab->openfl) (1.5.0)\n",
            "Collecting tinycss2\n",
            "  Downloading tinycss2-1.2.1-py3-none-any.whl (21 kB)\n",
            "Collecting jupyterlab-pygments\n",
            "  Downloading jupyterlab_pygments-0.2.2-py2.py3-none-any.whl (21 kB)\n",
            "Requirement already satisfied: beautifulsoup4 in /usr/local/lib/python3.8/dist-packages (from nbconvert>=6.4.4->jupyter-server<3,>=1.16.0->jupyterlab->openfl) (4.6.3)\n",
            "Requirement already satisfied: defusedxml in /usr/local/lib/python3.8/dist-packages (from nbconvert>=6.4.4->jupyter-server<3,>=1.16.0->jupyterlab->openfl) (0.7.1)\n",
            "Collecting mistune<3,>=2.0.3\n",
            "  Downloading mistune-2.0.4-py2.py3-none-any.whl (24 kB)\n",
            "Requirement already satisfied: fastjsonschema in /usr/local/lib/python3.8/dist-packages (from nbformat>=5.3.0->jupyter-server<3,>=1.16.0->jupyterlab->openfl) (2.16.2)\n",
            "Requirement already satisfied: wcwidth in /usr/local/lib/python3.8/dist-packages (from prompt-toolkit<2.1.0,>=2.0.0->ipython>=5.0.0->ipykernel->openfl) (0.2.5)\n",
            "Requirement already satisfied: pyasn1<0.5.0,>=0.4.6 in /usr/local/lib/python3.8/dist-packages (from pyasn1-modules>=0.2.1->google-auth<3,>=1.6.3->tensorboard->openfl) (0.4.8)\n",
            "Requirement already satisfied: oauthlib>=3.0.0 in /usr/local/lib/python3.8/dist-packages (from requests-oauthlib>=0.7.0->google-auth-oauthlib<0.5,>=0.4.1->tensorboard->openfl) (3.2.2)\n",
            "Requirement already satisfied: ptyprocess in /usr/local/lib/python3.8/dist-packages (from terminado>=0.8.3->jupyter-server<3,>=1.16.0->jupyterlab->openfl) (0.7.0)\n",
            "Collecting argon2-cffi-bindings\n",
            "  Downloading argon2_cffi_bindings-21.2.0-cp36-abi3-manylinux_2_17_x86_64.manylinux2014_x86_64.whl (86 kB)\n",
            "\u001b[2K     \u001b[90m━━━━━━━━━━━━━━━━━━━━━━━━━━━━━━━━━━━━━━━━\u001b[0m \u001b[32m86.2/86.2 KB\u001b[0m \u001b[31m10.7 MB/s\u001b[0m eta \u001b[36m0:00:00\u001b[0m\n",
            "\u001b[?25h\u001b[33mWARNING: jsonschema 4.3.3 does not provide the extra 'format-nongpl'\u001b[0m\u001b[33m\n",
            "\u001b[0mCollecting uri-template\n",
            "  Downloading uri_template-1.2.0-py3-none-any.whl (10 kB)\n",
            "Collecting fqdn\n",
            "  Downloading fqdn-1.5.1-py3-none-any.whl (9.1 kB)\n",
            "Collecting jsonpointer>1.13\n",
            "  Downloading jsonpointer-2.3-py2.py3-none-any.whl (7.8 kB)\n",
            "Collecting webcolors>=1.11\n",
            "  Downloading webcolors-1.12-py3-none-any.whl (9.9 kB)\n",
            "Collecting isoduration\n",
            "  Downloading isoduration-20.11.0-py3-none-any.whl (11 kB)\n",
            "Requirement already satisfied: webencodings in /usr/local/lib/python3.8/dist-packages (from bleach->nbconvert>=6.4.4->jupyter-server<3,>=1.16.0->jupyterlab->openfl) (0.5.1)\n",
            "Collecting arrow>=0.15.0\n",
            "  Downloading arrow-1.2.3-py3-none-any.whl (66 kB)\n",
            "\u001b[2K     \u001b[90m━━━━━━━━━━━━━━━━━━━━━━━━━━━━━━━━━━━━━━━━\u001b[0m \u001b[32m66.4/66.4 KB\u001b[0m \u001b[31m7.7 MB/s\u001b[0m eta \u001b[36m0:00:00\u001b[0m\n",
            "\u001b[?25hBuilding wheels for collected packages: flatten-json\n",
            "  Building wheel for flatten-json (setup.py) ... \u001b[?25l\u001b[?25hdone\n",
            "  Created wheel for flatten-json: filename=flatten_json-0.1.13-py3-none-any.whl size=7978 sha256=fec51adc5b0399db1a74eac37b57684cb6c7f77b06b628c775c254c5e743edb9\n",
            "  Stored in directory: /root/.cache/pip/wheels/87/c5/6d/7a772fecd8d6ebae9e60d997f74b9a96ead7d5a0f26a920090\n",
            "Successfully built flatten-json\n",
            "Installing collected packages: mistune, json5, commonmark, websocket-client, webcolors, urllib3, uri-template, tornado, tinycss2, sniffio, rich, rfc3986-validator, rfc3339-validator, pyzmq, python-json-logger, protobuf, pkgutil-resolve-name, nest-asyncio, jupyterlab-pygments, jsonpointer, jinja2, jedi, grpcio, fqdn, flatten-json, dynaconf, Click, tensorboardX, requests, jupyter-client, jsonschema, cryptography, arrow, argon2-cffi-bindings, anyio, jupyter-server-terminals, isoduration, docker, argon2-cffi, nbclient, nbconvert, jupyter-events, jupyter-server, notebook-shim, jupyterlab-server, nbclassic, notebook, jupyterlab, openfl\n",
            "  Attempting uninstall: mistune\n",
            "    Found existing installation: mistune 0.8.4\n",
            "    Uninstalling mistune-0.8.4:\n",
            "      Successfully uninstalled mistune-0.8.4\n",
            "  Attempting uninstall: urllib3\n",
            "    Found existing installation: urllib3 1.24.3\n",
            "    Uninstalling urllib3-1.24.3:\n",
            "      Successfully uninstalled urllib3-1.24.3\n",
            "  Attempting uninstall: tornado\n",
            "    Found existing installation: tornado 6.0.4\n",
            "    Uninstalling tornado-6.0.4:\n",
            "      Successfully uninstalled tornado-6.0.4\n",
            "  Attempting uninstall: pyzmq\n",
            "    Found existing installation: pyzmq 23.2.1\n",
            "    Uninstalling pyzmq-23.2.1:\n",
            "      Successfully uninstalled pyzmq-23.2.1\n",
            "  Attempting uninstall: protobuf\n",
            "    Found existing installation: protobuf 3.19.6\n",
            "    Uninstalling protobuf-3.19.6:\n",
            "      Successfully uninstalled protobuf-3.19.6\n",
            "  Attempting uninstall: jinja2\n",
            "    Found existing installation: Jinja2 2.11.3\n",
            "    Uninstalling Jinja2-2.11.3:\n",
            "      Successfully uninstalled Jinja2-2.11.3\n",
            "  Attempting uninstall: grpcio\n",
            "    Found existing installation: grpcio 1.51.1\n",
            "    Uninstalling grpcio-1.51.1:\n",
            "      Successfully uninstalled grpcio-1.51.1\n",
            "  Attempting uninstall: Click\n",
            "    Found existing installation: click 7.1.2\n",
            "    Uninstalling click-7.1.2:\n",
            "      Successfully uninstalled click-7.1.2\n",
            "  Attempting uninstall: requests\n",
            "    Found existing installation: requests 2.25.1\n",
            "    Uninstalling requests-2.25.1:\n",
            "      Successfully uninstalled requests-2.25.1\n",
            "  Attempting uninstall: jupyter-client\n",
            "    Found existing installation: jupyter-client 6.1.12\n",
            "    Uninstalling jupyter-client-6.1.12:\n",
            "      Successfully uninstalled jupyter-client-6.1.12\n",
            "  Attempting uninstall: jsonschema\n",
            "    Found existing installation: jsonschema 4.3.3\n",
            "    Uninstalling jsonschema-4.3.3:\n",
            "      Successfully uninstalled jsonschema-4.3.3\n",
            "  Attempting uninstall: nbconvert\n",
            "    Found existing installation: nbconvert 5.6.1\n",
            "    Uninstalling nbconvert-5.6.1:\n",
            "      Successfully uninstalled nbconvert-5.6.1\n",
            "  Attempting uninstall: notebook\n",
            "    Found existing installation: notebook 5.7.16\n",
            "    Uninstalling notebook-5.7.16:\n",
            "      Successfully uninstalled notebook-5.7.16\n",
            "\u001b[31mERROR: pip's dependency resolver does not currently take into account all the packages that are installed. This behaviour is the source of the following dependency conflicts.\n",
            "grpcio-status 1.48.2 requires grpcio>=1.48.2, but you have grpcio 1.34.1 which is incompatible.\n",
            "googleapis-common-protos 1.57.1 requires protobuf!=3.20.0,!=3.20.1,!=4.21.1,!=4.21.2,!=4.21.3,!=4.21.4,!=4.21.5,<5.0.0dev,>=3.19.5, but you have protobuf 3.19.4 which is incompatible.\n",
            "google-colab 1.0.0 requires notebook~=5.7.16, but you have notebook 6.5.2 which is incompatible.\n",
            "google-colab 1.0.0 requires tornado~=6.0.4, but you have tornado 6.2 which is incompatible.\n",
            "google-cloud-translate 3.8.4 requires protobuf!=3.20.0,!=3.20.1,!=4.21.0,!=4.21.1,!=4.21.2,!=4.21.3,!=4.21.4,!=4.21.5,<5.0.0dev,>=3.19.5, but you have protobuf 3.19.4 which is incompatible.\n",
            "google-cloud-language 2.6.1 requires protobuf!=3.20.0,!=3.20.1,!=4.21.0,!=4.21.1,!=4.21.2,!=4.21.3,!=4.21.4,!=4.21.5,<5.0.0dev,>=3.19.5, but you have protobuf 3.19.4 which is incompatible.\n",
            "google-cloud-firestore 2.7.3 requires protobuf!=3.20.0,!=3.20.1,!=4.21.0,!=4.21.1,!=4.21.2,!=4.21.3,!=4.21.4,!=4.21.5,<5.0.0dev,>=3.19.5, but you have protobuf 3.19.4 which is incompatible.\n",
            "google-cloud-datastore 2.11.1 requires protobuf!=3.20.0,!=3.20.1,!=4.21.0,!=4.21.1,!=4.21.2,!=4.21.3,!=4.21.4,!=4.21.5,<5.0.0dev,>=3.19.5, but you have protobuf 3.19.4 which is incompatible.\n",
            "google-cloud-bigquery 3.4.1 requires grpcio<2.0dev,>=1.47.0, but you have grpcio 1.34.1 which is incompatible.\n",
            "google-cloud-bigquery 3.4.1 requires protobuf!=3.20.0,!=3.20.1,!=4.21.0,!=4.21.1,!=4.21.2,!=4.21.3,!=4.21.4,!=4.21.5,<5.0.0dev,>=3.19.5, but you have protobuf 3.19.4 which is incompatible.\n",
            "google-cloud-bigquery-storage 2.17.0 requires protobuf!=3.20.0,!=3.20.1,!=4.21.0,!=4.21.1,!=4.21.2,!=4.21.3,!=4.21.4,!=4.21.5,<5.0.0dev,>=3.19.5, but you have protobuf 3.19.4 which is incompatible.\n",
            "google-api-core 2.11.0 requires protobuf!=3.20.0,!=3.20.1,!=4.21.0,!=4.21.1,!=4.21.2,!=4.21.3,!=4.21.4,!=4.21.5,<5.0.0dev,>=3.19.5, but you have protobuf 3.19.4 which is incompatible.\n",
            "flask 1.1.4 requires click<8.0,>=5.1, but you have click 8.0.1 which is incompatible.\n",
            "flask 1.1.4 requires Jinja2<3.0,>=2.10.1, but you have jinja2 3.1.2 which is incompatible.\u001b[0m\u001b[31m\n",
            "\u001b[0mSuccessfully installed Click-8.0.1 anyio-3.6.2 argon2-cffi-21.3.0 argon2-cffi-bindings-21.2.0 arrow-1.2.3 commonmark-0.9.1 cryptography-39.0.0 docker-6.0.1 dynaconf-3.1.7 flatten-json-0.1.13 fqdn-1.5.1 grpcio-1.34.1 isoduration-20.11.0 jedi-0.18.2 jinja2-3.1.2 json5-0.9.11 jsonpointer-2.3 jsonschema-4.17.3 jupyter-client-7.4.9 jupyter-events-0.6.3 jupyter-server-2.1.0 jupyter-server-terminals-0.4.4 jupyterlab-3.5.2 jupyterlab-pygments-0.2.2 jupyterlab-server-2.18.0 mistune-2.0.4 nbclassic-0.4.8 nbclient-0.7.2 nbconvert-7.2.7 nest-asyncio-1.5.6 notebook-6.5.2 notebook-shim-0.2.2 openfl-1.4 pkgutil-resolve-name-1.3.10 protobuf-3.19.4 python-json-logger-2.0.4 pyzmq-25.0.0 requests-2.28.2 rfc3339-validator-0.1.4 rfc3986-validator-0.1.1 rich-13.1.0 sniffio-1.3.0 tensorboardX-2.5.1 tinycss2-1.2.1 tornado-6.2 uri-template-1.2.0 urllib3-1.26.14 webcolors-1.12 websocket-client-1.4.2\n",
            "Cloning into 'openfl'...\n",
            "remote: Enumerating objects: 7192, done.\u001b[K\n",
            "remote: Counting objects: 100% (348/348), done.\u001b[K\n",
            "remote: Compressing objects: 100% (241/241), done.\u001b[K\n",
            "remote: Total 7192 (delta 168), reused 228 (delta 105), pack-reused 6844\u001b[K\n",
            "Receiving objects: 100% (7192/7192), 122.59 MiB | 18.75 MiB/s, done.\n",
            "Resolving deltas: 100% (4243/4243), done.\n"
          ]
        }
      ],
      "source": [
        "!pip install openfl\n",
        "!git clone https://github.com/intel/openfl.git"
      ]
    },
    {
      "cell_type": "code",
      "source": [
        "import logging\n",
        "import os\n",
        "\n",
        "# Logging fix for Google Colab\n",
        "log = logging.getLogger()\n",
        "log.setLevel(logging.INFO)\n",
        "\n",
        "os.chdir('./openfl/openfl-tutorials/interactive_api/numpy_linear_regression/workspace')"
      ],
      "metadata": {
        "id": "NJ1FQVt2VDxs"
      },
      "execution_count": null,
      "outputs": []
    },
    {
      "cell_type": "code",
      "source": [
        "from typing import List, Union\n",
        "import numpy as np\n",
        "import random\n",
        "import matplotlib.pyplot as plt\n",
        "%matplotlib inline\n",
        "from matplotlib.pylab import rcParams\n",
        "rcParams['figure.figsize'] = 7, 5"
      ],
      "metadata": {
        "id": "OxbqswPAVJ5Z"
      },
      "execution_count": null,
      "outputs": []
    },
    {
      "cell_type": "markdown",
      "source": [
        "Define a linear model and train it locally"
      ],
      "metadata": {
        "id": "vNwktkXdVShM"
      }
    },
    {
      "cell_type": "code",
      "source": [
        "class LinRegLasso:\n",
        "    def __init__(self, n_feat: int) -> None:\n",
        "        self.weights = np.ones((n_feat + 1)) # (n_feat + 1,) weights + bias\n",
        "        \n",
        "    def predict(self, feature_vector: Union[np.ndarray, List[int]]) -> float:\n",
        "        '''\n",
        "        feature_vector may be a list or have shape (n_feat,)\n",
        "        or it may be a bunch of vectors (n_vec, nfeat)\n",
        "        '''\n",
        "        feature_vector = np.array(feature_vector)\n",
        "        if len(feature_vector.shape) == 1:\n",
        "            feature_vector = feature_vector[:,np.newaxis]\n",
        "        assert feature_vector.shape[-1] == self.weights.shape[0] - 1, \\\n",
        "            f\"sample shape is {feature_vector.shape} and weights shape is f{self.weights}\"\n",
        "        \n",
        "        return self.weights @ np.concatenate((feature_vector.T, [[1]*feature_vector.shape[0]]))\n",
        "    \n",
        "    def mse(self, X: np.ndarray, Y: np.ndarray) -> float:\n",
        "        Y_hat = self.predict(X)\n",
        "        return np.sum((Y - Y_hat)**2) / Y.shape[0]\n",
        "\n",
        "    def _update_weights(self, X: np.ndarray, Y: np.ndarray, lr: float, wd: float) -> None:\n",
        "        '''\n",
        "        X: (n_samples, n_features)\n",
        "        Y: (n_samples,)\n",
        "        self.weights: (n_features + 1)\n",
        "        \n",
        "        Cost function is MSE: (y - W*X - b)**2;\n",
        "        its derivative with resp to any x is -2*X*(y - W*X - b),\n",
        "        and with resp to b is -2*(y - W*X - b).\n",
        "        \n",
        "        Regularisation function is L1 |W|;\n",
        "        its derivative is SIGN(w)\n",
        "        '''\n",
        "        predictions = self.predict(X)\n",
        "        error = Y - predictions # (n_samples,)\n",
        "        X_with_bias = np.concatenate((X.T, [[1]*X.shape[0]])).T\n",
        "        updates = -2 * X_with_bias.T @ error / Y.shape[0]\n",
        "        regression_term = np.sign(self.weights)\n",
        "        \n",
        "        self.weights = self.weights - lr * updates + wd * regression_term\n",
        "    \n",
        "    def fit(self, X: np.ndarray, Y: np.ndarray,\n",
        "            n_epochs: int, lr: float, wd: float,\n",
        "            silent: bool=False) -> None:\n",
        "        for i in range(n_epochs):\n",
        "            self._update_weights(X, Y, lr, wd)\n",
        "            mse = self.mse(X, Y)\n",
        "            if not silent:\n",
        "                print(f'epoch: {i}, \\t MSE: {mse}')"
      ],
      "metadata": {
        "id": "Ajmvj4yKVLnD"
      },
      "execution_count": null,
      "outputs": []
    },
    {
      "cell_type": "code",
      "source": [
        "# Define input array with angles from 60deg to 300deg converted to radians\n",
        "noise=0.2\n",
        "\n",
        "x = np.array([i*np.pi/180 for i in range(60,300,4)])\n",
        "np.random.seed(10)  # Setting seed for reproducibility\n",
        "y = np.sin(x) + np.random.normal(0, noise, len(x))\n",
        "# plt.plot(x,y,'.')"
      ],
      "metadata": {
        "id": "DXUdM_EgVd0H"
      },
      "execution_count": null,
      "outputs": []
    },
    {
      "cell_type": "code",
      "source": [
        "lr_model = LinRegLasso(1)\n",
        "wd = 0.0001\n",
        "lr = 0.08\n",
        "epochs = 100\n",
        "\n",
        "print(f\"Initila MSE: {lr_model.mse(x,y)}\")\n",
        "lr_model.fit(x[:,np.newaxis],y, epochs, lr, wd, silent=True)\n",
        "print(f\"Final MSE: {lr_model.mse(x,y)}\")\n",
        "print(f\"Final parameters: {lr_model.weights}\")"
      ],
      "metadata": {
        "colab": {
          "base_uri": "https://localhost:8080/"
        },
        "id": "2t_h8HjSVkWg",
        "outputId": "0b70d8d7-dfbc-482c-f387-6171155752a8"
      },
      "execution_count": null,
      "outputs": [
        {
          "output_type": "stream",
          "name": "stdout",
          "text": [
            "Initila MSE: 20.386296131593337\n",
            "Final MSE: 0.07414364895511474\n",
            "Final parameters: [-0.56720069  1.78698617]\n"
          ]
        }
      ]
    },
    {
      "cell_type": "code",
      "source": [
        "# We can also solve this 1D problem using Numpy\n",
        "numpy_solution = np.polyfit(x,y,1)\n",
        "predictor_np = np.poly1d(numpy_solution)"
      ],
      "metadata": {
        "id": "P5PUXwZcVznU"
      },
      "execution_count": null,
      "outputs": []
    },
    {
      "cell_type": "code",
      "source": [
        "y_hat = lr_model.predict(x)\n",
        "y_np = predictor_np(x)\n",
        "plt.plot(x,y,'.')\n",
        "plt.plot(x,y_hat,'.')\n",
        "plt.plot(x,y_np,'--')"
      ],
      "metadata": {
        "colab": {
          "base_uri": "https://localhost:8080/",
          "height": 337
        },
        "id": "_kCcRhJWV3Lh",
        "outputId": "a377272e-f452-46ed-fa8d-a1dd631895c6"
      },
      "execution_count": null,
      "outputs": [
        {
          "output_type": "execute_result",
          "data": {
            "text/plain": [
              "[<matplotlib.lines.Line2D at 0x7f5b839a3970>]"
            ]
          },
          "metadata": {},
          "execution_count": 8
        },
        {
          "output_type": "display_data",
          "data": {
            "text/plain": [
              "<Figure size 504x360 with 1 Axes>"
            ],
            "image/png": "[encoded data removed]"
          },
          "metadata": {
            "needs_background": "light"
          }
        }
      ]
    },
    {
      "cell_type": "markdown",
      "source": [
        "Now we run the same training on federated data\n",
        "1. Start the Director service and several envoys with generated data"
      ],
      "metadata": {
        "id": "oHqeN9o8WMro"
      }
    },
    {
      "cell_type": "code",
      "source": [
        "# Here are the main parameters for our Federation\n",
        "n_cols=10 # Number of Envoys / Collaborators\n",
        "n_samples_per_col=10\n",
        "noise=0.2"
      ],
      "metadata": {
        "id": "fWUjraNZWOfS"
      },
      "execution_count": null,
      "outputs": []
    },
    {
      "cell_type": "code",
      "source": [
        "import os\n",
        "from pathlib import Path\n",
        "from time import sleep\n",
        "from typing import Dict, List, Union\n",
        "import yaml"
      ],
      "metadata": {
        "id": "-dz2uZsoWUE1"
      },
      "execution_count": null,
      "outputs": []
    },
    {
      "cell_type": "markdown",
      "source": [
        "Start the Director service\n"
      ],
      "metadata": {
        "id": "_hL9rE1SWpm1"
      }
    },
    {
      "cell_type": "code",
      "source": [
        "cwd = Path.cwd()\n",
        "director_workspace_path = Path('../director/').absolute()\n",
        "director_config_file = director_workspace_path / 'director_config.yaml'\n",
        "director_logfile = director_workspace_path / 'director.log'\n",
        "if director_logfile.is_file(): director_logfile.unlink()\n",
        "\n",
        "os.environ['main_folder'] = str(cwd)\n",
        "os.environ['director_workspace_path'] = str(director_workspace_path)\n",
        "os.environ['director_logfile'] = str(director_logfile)\n",
        "os.environ['director_config_file'] = str(director_config_file)"
      ],
      "metadata": {
        "id": "EcFPzqTOWqnU"
      },
      "execution_count": null,
      "outputs": []
    },
    {
      "cell_type": "code",
      "source": [
        "%%script /bin/bash --bg\n",
        "cd $director_workspace_path\n",
        "fx director start --disable-tls -c $director_config_file > $director_logfile &\n",
        "cd $main_folder"
      ],
      "metadata": {
        "id": "nEd91T5zWw40"
      },
      "execution_count": null,
      "outputs": []
    },
    {
      "cell_type": "markdown",
      "source": [
        "Start Envoys"
      ],
      "metadata": {
        "id": "3XiRFdIbW1B8"
      }
    },
    {
      "cell_type": "code",
      "source": [
        "# Read the original envoy config file content\n",
        "with open(Path('../envoy/envoy_config.yaml'), \"r\") as stream:\n",
        "    orig_config = yaml.safe_load(stream)\n",
        "\n",
        "def generate_envoy_configs(config: Dict,\n",
        "                           save_path: Union[str, Path] = '../envoy/',\n",
        "                           n_cols: int = 10,\n",
        "                           n_samples_per_col: int = 10,\n",
        "                           noise: float = 0.15) -> List[Path]:\n",
        "    # Prevent installing requirements by Envoys as they will run in the same environment\n",
        "    config['params']['install_requirements'] = False\n",
        "\n",
        "    # Pass parameters for Shard Descriptors so they can generate relevant datasets\n",
        "    config['shard_descriptor']['params']['n_samples'] = n_samples_per_col\n",
        "    config['shard_descriptor']['params']['noise'] = noise\n",
        "    \n",
        "    config_paths = [(Path(save_path) / f'{i}_envoy_config.yaml').absolute()\n",
        "                for i in range(1, n_cols + 1)]\n",
        "\n",
        "    for i, path in enumerate(config_paths):\n",
        "        config['shard_descriptor']['params']['rank'] = i\n",
        "        with open(path, \"w\") as stream:\n",
        "            yaml.safe_dump(config, stream)\n",
        "            \n",
        "    return config_paths\n",
        "            \n",
        "def remove_configs(config_paths):\n",
        "    for path in config_paths:\n",
        "        path.unlink()"
      ],
      "metadata": {
        "id": "Hp8ZY8dLW0ZI"
      },
      "execution_count": null,
      "outputs": []
    },
    {
      "cell_type": "code",
      "source": [
        "config_paths = generate_envoy_configs(orig_config,\n",
        "                                      n_cols=n_cols,\n",
        "                                      n_samples_per_col=n_samples_per_col,\n",
        "                                      noise=noise)\n",
        "# remove_configs(config_paths)"
      ],
      "metadata": {
        "id": "hgwwgiP-W8x3"
      },
      "execution_count": null,
      "outputs": []
    },
    {
      "cell_type": "markdown",
      "source": [
        "Now start Envoy processes in a loop"
      ],
      "metadata": {
        "id": "osUD1JxoXBUa"
      }
    },
    {
      "cell_type": "code",
      "source": [
        "# envoy_workspace_path = Path('../envoy/').absolute()\n",
        "def start_envoys(config_paths: List[Path]) -> None:\n",
        "    envoy_workspace_path = config_paths[0].parent\n",
        "    cwd = Path.cwd()\n",
        "    os.chdir(envoy_workspace_path)\n",
        "    for i, path in enumerate(config_paths):\n",
        "        os.system(f'fx envoy start -n env_{i + 1} --disable-tls '\n",
        "                  f'--envoy-config-path {path} -dh localhost -dp 50049 '\n",
        "                  f'>env_{i + 1}.log &')\n",
        "    os.chdir(cwd)\n",
        "\n",
        "sleep(5)\n",
        "\n",
        "start_envoys(config_paths)\n",
        "\n",
        "sleep(25)"
      ],
      "metadata": {
        "id": "y27ehX_aXCZX"
      },
      "execution_count": null,
      "outputs": []
    },
    {
      "cell_type": "markdown",
      "source": [
        "2. Connect to the Director service of out Federation as Data scientist"
      ],
      "metadata": {
        "id": "ynSHPfaBXJrJ"
      }
    },
    {
      "cell_type": "code",
      "source": [
        "# Create a federation\n",
        "from openfl.interface.interactive_api.federation import Federation\n",
        "\n",
        "# please use the same identificator that was used in signed certificate\n",
        "client_id = 'frontend'\n",
        "director_node_fqdn = 'localhost'\n",
        "director_port = 50049\n",
        "\n",
        "federation = Federation(\n",
        "    client_id=client_id,\n",
        "    director_node_fqdn=director_node_fqdn,\n",
        "    director_port=director_port,\n",
        "    tls=False\n",
        ")"
      ],
      "metadata": {
        "id": "gwwVpJIwXKhN"
      },
      "execution_count": null,
      "outputs": []
    },
    {
      "cell_type": "code",
      "source": [
        "# Data scientist may request a list of connected envoys\n",
        "shard_registry = federation.get_shard_registry()\n",
        "\n",
        "# WARNING!\n",
        "\n",
        "# Make sure shard registry contains all the envoys you started!\n",
        "# In other case try to run this cell again or reconnect to the Director (the cell above).\n",
        "shard_registry"
      ],
      "metadata": {
        "colab": {
          "base_uri": "https://localhost:8080/"
        },
        "id": "Y3PuqTASXfa7",
        "outputId": "81bf4e4e-3636-4d4d-a9b6-0779d6dff581"
      },
      "execution_count": null,
      "outputs": [
        {
          "output_type": "execute_result",
          "data": {
            "text/plain": [
              "{}"
            ]
          },
          "metadata": {},
          "execution_count": 17
        }
      ]
    },
    {
      "cell_type": "markdown",
      "source": [
        "Now we will prepare an FL experimnet using OpenFL Python API.\n",
        "\n",
        "DATA "
      ],
      "metadata": {
        "id": "U92nyCV2XqmY"
      }
    },
    {
      "cell_type": "code",
      "source": [
        "from openfl.interface.interactive_api.experiment import TaskInterface, DataInterface, ModelInterface, FLExperiment\n",
        "\n",
        "class LinRegDataSet(DataInterface):\n",
        "    def __init__(self, **kwargs):\n",
        "        \"\"\"Initialize DataLoader.\"\"\"\n",
        "        self.kwargs = kwargs\n",
        "        pass\n",
        "\n",
        "    @property\n",
        "    def shard_descriptor(self):\n",
        "        \"\"\"Return shard descriptor.\"\"\"\n",
        "        return self._shard_descriptor\n",
        "    \n",
        "    @shard_descriptor.setter\n",
        "    def shard_descriptor(self, shard_descriptor):\n",
        "        \"\"\"\n",
        "        Describe per-collaborator procedures or sharding.\n",
        "\n",
        "        This method will be called during a collaborator initialization.\n",
        "        Local shard_descriptor  will be set by Envoy.\n",
        "        \"\"\"\n",
        "        self._shard_descriptor = shard_descriptor\n",
        "        self.train_set = shard_descriptor.get_dataset(\"train\")\n",
        "        self.val_set = shard_descriptor.get_dataset(\"val\")\n",
        "\n",
        "    def get_train_loader(self, **kwargs):\n",
        "        \"\"\"Output of this method will be provided to tasks with optimizer in contract.\"\"\"\n",
        "        return self.train_set\n",
        "\n",
        "    def get_valid_loader(self, **kwargs):\n",
        "        \"\"\"Output of this method will be provided to tasks without optimizer in contract.\"\"\"\n",
        "        return self.val_set\n",
        "\n",
        "    def get_train_data_size(self):\n",
        "        \"\"\"Information for aggregation.\"\"\"\n",
        "        return len(self.train_set)\n",
        "\n",
        "    def get_valid_data_size(self):\n",
        "        \"\"\"Information for aggregation.\"\"\"\n",
        "        return len(self.val_set)\n",
        "    \n",
        "lin_reg_dataset = LinRegDataSet()"
      ],
      "metadata": {
        "colab": {
          "base_uri": "https://localhost:8080/"
        },
        "id": "qGwQvUvXXqUl",
        "outputId": "46c8e394-07b5-4183-c6d1-e06357857e1f"
      },
      "execution_count": null,
      "outputs": [
        {
          "output_type": "stream",
          "name": "stderr",
          "text": [
            "INFO:numexpr.utils:NumExpr defaulting to 2 threads.\n"
          ]
        }
      ]
    },
    {
      "cell_type": "markdown",
      "source": [
        "MOdel"
      ],
      "metadata": {
        "id": "kpNIJ02ZX_4m"
      }
    },
    {
      "cell_type": "code",
      "source": [
        "# You can inspect the framework adapter used in this example.\n",
        "# It is a plug-in component allowing OpenFL to manage model parameters.\n",
        "framework_adapter = 'custom_adapter.CustomFrameworkAdapter'\n",
        "fed_model = LinRegLasso(1)\n",
        "MI = ModelInterface(model=fed_model, optimizer=None, framework_plugin=framework_adapter)\n",
        "\n",
        "# Save the initial model state\n",
        "initial_model = LinRegLasso(1)"
      ],
      "metadata": {
        "id": "xEv1le0zX-Ql"
      },
      "execution_count": null,
      "outputs": []
    },
    {
      "cell_type": "markdown",
      "source": [
        "Tasks\n",
        "\n",
        "Using an Optimizer does not make sense for this experiment. Yet it is a required part of a training task contract in the current version of OpenFL, so we just pass None. We need to employ a trick reporting metrics. OpenFL decides which model is the best based on an increasing metric."
      ],
      "metadata": {
        "id": "VRb_OGmWYK2w"
      }
    },
    {
      "cell_type": "code",
      "source": [
        "TI = TaskInterface()\n",
        "\n",
        "@TI.add_kwargs(**{'lr': 0.001,\n",
        "                   'wd': 0.0001,\n",
        "                   'epoches': 1})\n",
        "@TI.register_fl_task(model='my_model', data_loader='train_data', \\\n",
        "                     device='device', optimizer='optimizer')     \n",
        "def train(my_model, train_data, optimizer, device, lr, wd, epoches):\n",
        "    X, Y = train_data[:,:-1], train_data[:,-1]\n",
        "    my_model.fit(X, Y, epochs, lr, wd, silent=True)\n",
        "    return {'train_MSE': my_model.mse(X, Y),}\n",
        "\n",
        "@TI.register_fl_task(model='my_model', data_loader='val_data', device='device')     \n",
        "def validate(my_model, val_data, device):\n",
        "    X, Y = val_data[:,:-1], val_data[:,-1]        \n",
        "    return {'validation_MSE': my_model.mse(X, Y),}"
      ],
      "metadata": {
        "id": "lMXg1tP7YMLc"
      },
      "execution_count": null,
      "outputs": []
    },
    {
      "cell_type": "markdown",
      "source": [
        "Run"
      ],
      "metadata": {
        "id": "vOUEDQAjYgTo"
      }
    },
    {
      "cell_type": "code",
      "source": [
        "experiment_name = 'linear_regression_experiment'\n",
        "fl_experiment = FLExperiment(federation=federation, experiment_name=experiment_name,\n",
        "                            )"
      ],
      "metadata": {
        "id": "Z7Z9RncrYhgb"
      },
      "execution_count": null,
      "outputs": []
    },
    {
      "cell_type": "code",
      "source": [
        "fl_experiment.start(model_provider=MI, \n",
        "                    task_keeper=TI,\n",
        "                    data_loader=lin_reg_dataset,\n",
        "                    rounds_to_train=10,)"
      ],
      "metadata": {
        "colab": {
          "base_uri": "https://localhost:8080/"
        },
        "id": "ExdRpIg0duHn",
        "outputId": "d049d494-47b7-4e6d-a199-62327fd7af4b"
      },
      "execution_count": null,
      "outputs": [
        {
          "output_type": "stream",
          "name": "stderr",
          "text": [
            "INFO:openfl.federated.plan.plan:Building [red]🡆[/] Object [red]CloudpickleSerializer[/] from [red]openfl.plugins.interface_serializer.cloudpickle_serializer[/] Module.\n",
            "INFO:openfl.federated.plan.plan:Building [red]🡆[/] Object [red]CustomFrameworkAdapter[/] from [red]custom_adapter[/] Module.\n",
            "INFO:openfl.interface.interactive_api.experiment:Starting experiment!\n",
            "INFO:openfl.federated.plan.plan:FL-Plan hash is [blue]462ff6f822ce9e9116d27b49a3692f397cfbda09a721ce763b46a604dc1b1783eea09c79915fc4eeca8e5d06f7b4afce[/]\n",
            "INFO:openfl.federated.plan.plan:FL-Plan hash is [blue]462ff6f822ce9e9116d27b49a3692f397cfbda09a721ce763b46a604dc1b1783eea09c79915fc4eeca8e5d06f7b4afce[/]\n",
            "INFO:openfl.federated.plan.plan:Building [red]🡆[/] Object [red]CoreTaskRunner[/] from [red]openfl.federated.task.task_runner[/] Module.\n",
            "INFO:openfl.federated.plan.plan:Building [red]🡆[/] Object [red]CustomFrameworkAdapter[/] from [red]custom_adapter[/] Module.\n",
            "WARNING:openfl.federated.task.task_runner:tried to remove tensor: __opt_state_needed not present in the tensor dict\n",
            "WARNING:openfl.interface.interactive_api.experiment:tried to remove tensor: __opt_state_needed not present in the tensor dict\n",
            "INFO:openfl.transport.grpc.director_client:SetNewExperiment\n",
            "INFO:openfl.interface.interactive_api.experiment:Experiment was accepted and launched.\n"
          ]
        }
      ]
    },
    {
      "cell_type": "code",
      "source": [
        "# This method not only prints messages recieved from the director, \n",
        "# but also saves logs in the tensorboard format (by default)\n",
        "fl_experiment.stream_metrics()"
      ],
      "metadata": {
        "id": "JyI-OuB5dzKG"
      },
      "execution_count": null,
      "outputs": []
    },
    {
      "cell_type": "markdown",
      "source": [
        "3. Retrieve the trained model from the Director"
      ],
      "metadata": {
        "id": "84C6rzy5d9Oo"
      }
    },
    {
      "cell_type": "code",
      "source": [
        "last_model = fl_experiment.get_last_model()\n",
        "best_model = fl_experiment.get_best_model()\n",
        "print(best_model.weights)\n",
        "print(last_model.weights)\n",
        "print(f\"last model MSE: {last_model.mse(x,y)}\")\n",
        "print(f\"best model MSE: {best_model.mse(x,y)}\")"
      ],
      "metadata": {
        "colab": {
          "base_uri": "https://localhost:8080/"
        },
        "id": "sgXIzi3jd8iY",
        "outputId": "08fb5078-ed64-47d8-d700-1efa24910b68"
      },
      "execution_count": null,
      "outputs": [
        {
          "output_type": "stream",
          "name": "stderr",
          "text": [
            "WARNING:openfl.interface.interactive_api.experiment:No tensors received from director\n",
            "Possible reasons:\n",
            "\t1. Aggregated model is not ready\n",
            "\t2. Experiment data removed from director\n",
            "Return initial model\n",
            "WARNING:openfl.interface.interactive_api.experiment:No tensors received from director\n",
            "Possible reasons:\n",
            "\t1. Aggregated model is not ready\n",
            "\t2. Experiment data removed from director\n",
            "Return initial model\n"
          ]
        },
        {
          "output_type": "stream",
          "name": "stdout",
          "text": [
            "[1. 1.]\n",
            "[1. 1.]\n",
            "last model MSE: 20.386296131593337\n",
            "best model MSE: 20.386296131593337\n"
          ]
        }
      ]
    },
    {
      "cell_type": "markdown",
      "source": [
        "Lets see what does the unified dataset look like"
      ],
      "metadata": {
        "id": "Z26ccIdAeJZp"
      }
    },
    {
      "cell_type": "code",
      "source": [
        "n_cols = n_cols\n",
        "n_samples = n_samples_per_col\n",
        "interval = 240\n",
        "x_start = 60\n",
        "noise = noise\n",
        "\n",
        "X = None\n",
        "\n",
        "for rank in range(n_cols):\n",
        "    np.random.seed(rank)  # Setting seed for reproducibility\n",
        "    x = np.random.rand(n_samples, 1) * interval + x_start\n",
        "    x *= np.pi / 180\n",
        "    X = x if X is None else np.vstack((X,x))\n",
        "    y = np.sin(x) + np.random.normal(0, noise, size=(n_samples, 1))\n",
        "    plt.plot(x,y,'+')\n",
        "    \n",
        "X.sort()    \n",
        "Y_hat = last_model.predict(X)\n",
        "plt.plot(X,Y_hat,'--')"
      ],
      "metadata": {
        "colab": {
          "base_uri": "https://localhost:8080/",
          "height": 337
        },
        "id": "-j7mog9LeKVM",
        "outputId": "7d1ec947-9f32-4f8e-dd21-ad76992063e2"
      },
      "execution_count": null,
      "outputs": [
        {
          "output_type": "execute_result",
          "data": {
            "text/plain": [
              "[<matplotlib.lines.Line2D at 0x7f5a9fbb9460>]"
            ]
          },
          "metadata": {},
          "execution_count": 25
        },
        {
          "output_type": "display_data",
          "data": {
            "text/plain": [
              "<Figure size 504x360 with 1 Axes>"
            ],
            "image/png": "[encoded data removed]"
          },
          "metadata": {
            "needs_background": "light"
          }
        }
      ]
    },
    {
      "cell_type": "markdown",
      "source": [
        "Cleaning"
      ],
      "metadata": {
        "id": "0kuKMICxeTy3"
      }
    },
    {
      "cell_type": "code",
      "source": [
        "# To stop all services\n",
        "!pkill fx"
      ],
      "metadata": {
        "id": "RojTQc_IeP_d"
      },
      "execution_count": null,
      "outputs": []
    },
    {
      "cell_type": "code",
      "source": [
        "remove_configs(config_paths)"
      ],
      "metadata": {
        "id": "tBBGmy34ebpa"
      },
      "execution_count": null,
      "outputs": []
    }
  ]
}